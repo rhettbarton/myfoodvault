{
 "cells": [
  {
   "cell_type": "code",
   "execution_count": 1,
   "metadata": {},
   "outputs": [],
   "source": [
    "import requests\n",
    "from bs4 import BeautifulSoup\n",
    "from time import sleep"
   ]
  },
  {
   "cell_type": "code",
   "execution_count": 2,
   "metadata": {},
   "outputs": [],
   "source": [
    "def scrape_stilltasty(index):\n",
    "    # URL of the page to scrape\n",
    "    url = f'https://www.stilltasty.com/Fooditems/index/{index}'\n",
    "\n",
    "    # Send a GET request to the URL\n",
    "    response = requests.get(url)\n",
    "\n",
    "    # Initialize a dictionary to store values\n",
    "    shelf_life = {}\n",
    "\n",
    "    # Check if the request was successful\n",
    "    if response.status_code == 200:\n",
    "        # Parse the HTML content of the page\n",
    "        soup = BeautifulSoup(response.content, 'html.parser')\n",
    "\n",
    "        # Find first storage location\n",
    "        storage_location_elements = soup.find_all('div', class_='food-storage-left')\n",
    "\n",
    "        for e in storage_location_elements:\n",
    "            storage_location = e.text.strip()\n",
    "            # Find associated shelf life information\n",
    "            shelf_life_info_element = e.find_next_sibling('div')\n",
    "            shelf_life_info = shelf_life_info_element.text.strip()\n",
    "            shelf_life[storage_location] = shelf_life_info\n",
    "\n",
    "        return shelf_life\n",
    "    else:\n",
    "        # Print an error message if the request was not successful\n",
    "        print(f\"Error: Failed to retrieve data from {url}. Status code: {response.status_code}\")"
   ]
  },
  {
   "cell_type": "code",
   "execution_count": 13,
   "metadata": {},
   "outputs": [],
   "source": [
    "def get_index_numbers(url,target_string,get_names=False):\n",
    "    index_numbers = []\n",
    "    object_names = []\n",
    "\n",
    "    # Send a GET request to the URL\n",
    "    response = requests.get(url)\n",
    "\n",
    "    # Check if the request was successful\n",
    "    if response.status_code == 200:\n",
    "        # Parse the HTML content of the page\n",
    "        soup = BeautifulSoup(response.content, 'html.parser')\n",
    "\n",
    "        # Find all links with href attribute containing target_string\n",
    "        links = soup.find_all('a', href=lambda href: href and target_string in href)\n",
    "        #Remove image links\n",
    "        links = [link for link in links if not link.find('img')]\n",
    "        # Extract index numbers from href attributes\n",
    "        for link in links:\n",
    "            href = link['href']\n",
    "            index_number = href.split('/')[-1]\n",
    "            index_numbers.append(index_number)\n",
    "            if get_names:\n",
    "                object_name = link.text.strip()\n",
    "                object_names.append(object_name)\n",
    "            \n",
    "        return index_numbers, object_names \n",
    "    \n",
    "    else:\n",
    "        # Print an error message if the request was not successful\n",
    "        print(f\"Error: Failed to retrieve data from {url}. Status code: {response.status_code}\")"
   ]
  },
  {
   "cell_type": "code",
   "execution_count": 16,
   "metadata": {},
   "outputs": [
    {
     "name": "stdout",
     "output_type": "stream",
     "text": [
      "['26', '25', '9', '27', '7', '28', '6', '31', '30', '5']\n",
      "['Fruits', 'Vegetables', 'Dairy & Eggs', 'Meat & Poultry', 'Fish & Shellfish', 'Nuts, Grains & Pasta', 'Condiments & Oils', 'Snacks & Baked Goods', 'Herbs & Spices', 'Beverages']\n"
     ]
    }
   ],
   "source": [
    "# URL of the StillTasty index page\n",
    "url = 'https://www.stilltasty.com/Fooditems/index'\n",
    "target_string = \"/searchitems/index/\"\n",
    "category_index_numbers, categories = get_index_numbers(url,target_string,True)\n",
    "print(category_index_numbers)\n",
    "print(categories)"
   ]
  },
  {
   "cell_type": "code",
   "execution_count": 15,
   "metadata": {},
   "outputs": [
    {
     "name": "stdout",
     "output_type": "stream",
     "text": [
      "10\n",
      "10\n"
     ]
    }
   ],
   "source": [
    "print(len(category_index_numbers))\n",
    "print(len(categories))"
   ]
  },
  {
   "cell_type": "code",
   "execution_count": null,
   "metadata": {},
   "outputs": [],
   "source": [
    "index_len = 0\n",
    "all_index_numbers = []\n",
    "all_categories = []\n",
    "for x,i in enumerate(category_index_numbers):\n",
    "    print(f\"Now scraping index {i}\")\n",
    "    url = f'https://www.stilltasty.com/searchitems/index/{i}'\n",
    "    index_numbers, item_names = get_index_numbers(url,\"/Fooditems/index/\")\n",
    "    if index_numbers:\n",
    "        index_len += len(index_numbers)\n",
    "        print(index_len)\n",
    "        all_index_numbers = all_index_numbers + index_numbers\n",
    "        all_categories = all_categories + [categories[x]]*len(index_numbers)\n",
    "    print(f'Completed index {i}')\n",
    "    sleep(3)\n",
    "    other_pages, page_names = get_index_numbers(url,\"/searchitems/index/\")\n",
    "    print(other_pages)\n",
    "    if other_pages:\n",
    "        for j in other_pages: \n",
    "            print(f\"Now scraping index {j}\")\n",
    "            url = f'https://www.stilltasty.com/searchitems/index/{i}'\n",
    "            index_numbers, item_names = get_index_numbers(url,\"/Fooditems/index/\")\n",
    "            if index_numbers:\n",
    "                index_len += len(index_numbers)\n",
    "                print(index_len)\n",
    "                all_index_numbers = all_index_numbers + index_numbers\n",
    "                all_categories = all_categories + [categories[x]]*len(index_numbers)\n",
    "            print(f'Completed index {j}')\n",
    "            sleep(3)\n",
    "            \n",
    "print(all_index_numbers)\n",
    "print(all_categories)"
   ]
  },
  {
   "cell_type": "code",
   "execution_count": null,
   "metadata": {},
   "outputs": [],
   "source": [
    "index_len"
   ]
  },
  {
   "cell_type": "code",
   "execution_count": null,
   "metadata": {},
   "outputs": [],
   "source": [
    "url = f'https://www.stilltasty.com/searchitems/index/{i}'\n",
    "target_string = '/Fooditems/index/'\n",
    "get_index_numbers(url,target_string)"
   ]
  },
  {
   "cell_type": "code",
   "execution_count": null,
   "metadata": {},
   "outputs": [],
   "source": [
    "index_numbers = []\n",
    "object_names = []\n",
    "\n",
    "# Send a GET request to the URL\n",
    "response = requests.get(url)\n",
    "\n",
    "# Check if the request was successful\n",
    "if response.status_code == 200:\n",
    "    # Parse the HTML content of the page\n",
    "    soup = BeautifulSoup(response.content, 'html.parser')\n",
    "\n",
    "    # Find all links with href attribute containing target_string\n",
    "    links = soup.find_all('a', href=lambda href: href and target_string in href)\n",
    "    # links = [x for i,x in enumerate(links) if i%2 != 0]\n",
    "    # Extract index numbers from href attributes\n",
    "    for link in links:\n",
    "        href = link['href']\n",
    "        index_number = href.split('/')[-1]\n",
    "        index_numbers.append(index_number)\n"
   ]
  },
  {
   "cell_type": "code",
   "execution_count": null,
   "metadata": {},
   "outputs": [],
   "source": [
    "links"
   ]
  },
  {
   "cell_type": "code",
   "execution_count": null,
   "metadata": {},
   "outputs": [],
   "source": [
    "for i in all_index_numbers:\n",
    "    # scrape_stilltasty(i)"
   ]
  },
  {
   "cell_type": "code",
   "execution_count": null,
   "metadata": {},
   "outputs": [],
   "source": [
    "len(all_index_numbers)"
   ]
  },
  {
   "cell_type": "code",
   "execution_count": null,
   "metadata": {},
   "outputs": [],
   "source": [
    "from collections import Counter\n",
    "Counter(all_categories)"
   ]
  },
  {
   "cell_type": "code",
   "execution_count": null,
   "metadata": {},
   "outputs": [],
   "source": [
    "scrape_stilltasty('17634')"
   ]
  }
 ],
 "metadata": {
  "kernelspec": {
   "display_name": "Python 3",
   "language": "python",
   "name": "python3"
  },
  "language_info": {
   "codemirror_mode": {
    "name": "ipython",
    "version": 3
   },
   "file_extension": ".py",
   "mimetype": "text/x-python",
   "name": "python",
   "nbconvert_exporter": "python",
   "pygments_lexer": "ipython3",
   "version": "3.10.11"
  }
 },
 "nbformat": 4,
 "nbformat_minor": 2
}
