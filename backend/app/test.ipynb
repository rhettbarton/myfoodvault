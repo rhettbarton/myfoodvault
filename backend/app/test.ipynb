{
 "cells": [
  {
   "cell_type": "code",
   "execution_count": 101,
   "metadata": {},
   "outputs": [],
   "source": [
    "import requests\n",
    "from bs4 import BeautifulSoup\n",
    "from time import sleep"
   ]
  },
  {
   "cell_type": "code",
   "execution_count": null,
   "metadata": {},
   "outputs": [],
   "source": [
    "def scrape_stilltasty(index):\n",
    "    # URL of the page to scrape\n",
    "    url = f'https://www.stilltasty.com/Fooditems/index/{index}'\n",
    "\n",
    "    # Send a GET request to the URL\n",
    "    response = requests.get(url)\n",
    "\n",
    "    # Initialize a dictionary to store values\n",
    "    shelf_life = {}\n",
    "\n",
    "    # Check if the request was successful\n",
    "    if response.status_code == 200:\n",
    "        # Parse the HTML content of the page\n",
    "        soup = BeautifulSoup(response.content, 'html.parser')\n",
    "\n",
    "        # Find first storage location\n",
    "        storage_location_elements = soup.find_all('div', class_='food-storage-left')\n",
    "\n",
    "        for e in storage_location_elements:\n",
    "            storage_location = e.text.strip()\n",
    "            # Find associated shelf life information\n",
    "            shelf_life_info_element = e.find_next_sibling('div')\n",
    "            shelf_life_info = shelf_life_info_element.text.strip()\n",
    "            shelf_life[storage_location] = shelf_life_info\n",
    "\n",
    "        return shelf_life\n",
    "    else:\n",
    "        # Print an error message if the request was not successful\n",
    "        print(f\"Error: Failed to retrieve data from {url}. Status code: {response.status_code}\")"
   ]
  },
  {
   "cell_type": "code",
   "execution_count": 98,
   "metadata": {},
   "outputs": [],
   "source": [
    "def get_index_numbers(url,target_string,get_names=False):\n",
    "    index_numbers = []\n",
    "    object_names = []\n",
    "\n",
    "    # Send a GET request to the URL\n",
    "    response = requests.get(url)\n",
    "\n",
    "    # Check if the request was successful\n",
    "    if response.status_code == 200:\n",
    "        # Parse the HTML content of the page\n",
    "        soup = BeautifulSoup(response.content, 'html.parser')\n",
    "\n",
    "        # Find all links with href attribute containing target_string\n",
    "        links = soup.find_all('a', href=lambda href: href and target_string in href)\n",
    "        links = [x for i,x in enumerate(links) if i%2 != 0]\n",
    "        # Extract index numbers from href attributes\n",
    "        for link in links:\n",
    "            href = link['href']\n",
    "            index_number = href.split('/')[-1]\n",
    "            index_numbers.append(index_number)\n",
    "            if get_names:\n",
    "                object_name = link.text.strip()\n",
    "                object_names.append(object_name)\n",
    "            \n",
    "        return index_numbers, object_names \n",
    "    \n",
    "    else:\n",
    "        # Print an error message if the request was not successful\n",
    "        print(f\"Error: Failed to retrieve data from {url}. Status code: {response.status_code}\")"
   ]
  },
  {
   "cell_type": "code",
   "execution_count": 93,
   "metadata": {},
   "outputs": [
    {
     "name": "stdout",
     "output_type": "stream",
     "text": [
      "['26', '25', '9', '27', '7', '28', '6', '31', '30', '5']\n",
      "['Fruits', 'Vegetables', 'Dairy & Eggs', 'Meat & Poultry', 'Fish & Shellfish', 'Nuts, Grains & Pasta', 'Condiments & Oils', 'Snacks & Baked Goods', 'Herbs & Spices', 'Beverages']\n"
     ]
    }
   ],
   "source": [
    "url = 'https://www.stilltasty.com/Fooditems/index'\n",
    "target_string = \"/searchitems/index/\"\n",
    "index_numbers = []\n",
    "object_names = []\n",
    "\n",
    "# Send a GET request to the URL\n",
    "response = requests.get(url)\n",
    "\n",
    "# Check if the request was successful\n",
    "if response.status_code == 200:\n",
    "    # Parse the HTML content of the page\n",
    "    soup = BeautifulSoup(response.content, 'html.parser')\n",
    "\n",
    "    # Find all links with href attribute containing target_string\n",
    "    links = soup.find_all('a', href=lambda href: href and target_string in href)\n",
    "    links = [x for i,x in enumerate(links) if i%2 == 1]\n",
    "    # Extract index numbers from href attributes\n",
    "    for link in links:\n",
    "        href = link['href']\n",
    "        index_number = href.split('/')[-1]\n",
    "        index_numbers.append(index_number)\n",
    "        object_name = link.text.strip()\n",
    "        object_names.append(object_name)\n",
    "\n",
    "    print(index_numbers)  \n",
    "    print(object_names) \n",
    "\n",
    "else:\n",
    "    # Print an error message if the request was not successful\n",
    "    ValueError(f\"Error: Failed to retrieve data from {url}. Status code: {response.status_code}\")"
   ]
  },
  {
   "cell_type": "code",
   "execution_count": 92,
   "metadata": {},
   "outputs": [
    {
     "data": {
      "text/plain": [
       "[<a href=\"https://www.stilltasty.com/searchitems/index/26\">Fruits</a>,\n",
       " <a href=\"https://www.stilltasty.com/searchitems/index/25\">Vegetables</a>,\n",
       " <a href=\"https://www.stilltasty.com/searchitems/index/9\">Dairy &amp; Eggs</a>,\n",
       " <a href=\"https://www.stilltasty.com/searchitems/index/27\">Meat &amp; Poultry</a>,\n",
       " <a href=\"https://www.stilltasty.com/searchitems/index/7\">Fish &amp; Shellfish</a>,\n",
       " <a href=\"https://www.stilltasty.com/searchitems/index/28\">Nuts, Grains &amp; Pasta</a>,\n",
       " <a href=\"https://www.stilltasty.com/searchitems/index/6\">Condiments &amp; Oils</a>,\n",
       " <a href=\"https://www.stilltasty.com/searchitems/index/31\">Snacks &amp; Baked Goods</a>,\n",
       " <a href=\"https://www.stilltasty.com/searchitems/index/30\">Herbs &amp; Spices</a>,\n",
       " <a href=\"https://www.stilltasty.com/searchitems/index/5\">Beverages</a>]"
      ]
     },
     "execution_count": 92,
     "metadata": {},
     "output_type": "execute_result"
    }
   ],
   "source": [
    "links"
   ]
  },
  {
   "cell_type": "code",
   "execution_count": 103,
   "metadata": {},
   "outputs": [
    {
     "name": "stdout",
     "output_type": "stream",
     "text": [
      "['26', '25', '9', '27', '7', '28', '6', '31', '30', '5']\n",
      "['Fruits', 'Vegetables', 'Dairy & Eggs', 'Meat & Poultry', 'Fish & Shellfish', 'Nuts, Grains & Pasta', 'Condiments & Oils', 'Snacks & Baked Goods', 'Herbs & Spices', 'Beverages']\n"
     ]
    }
   ],
   "source": [
    "# URL of the StillTasty index page\n",
    "url = 'https://www.stilltasty.com/Fooditems/index'\n",
    "category_index_numbers, categories = get_index_numbers(url,\"/searchitems/index/\",True)\n",
    "print(category_index_numbers)\n",
    "print(categories)"
   ]
  },
  {
   "cell_type": "code",
   "execution_count": 105,
   "metadata": {},
   "outputs": [
    {
     "name": "stdout",
     "output_type": "stream",
     "text": [
      "Now scraping index 26\n",
      "Completed index 26\n",
      "['26?page=3', '26?page=5', '26?page=7', '26?page=9']\n",
      "Now scraping index 26?page=3\n",
      "Completed index 26?page=3\n",
      "Now scraping index 26?page=5\n",
      "Completed index 26?page=5\n",
      "Now scraping index 26?page=7\n",
      "Completed index 26?page=7\n",
      "Now scraping index 26?page=9\n",
      "Completed index 26?page=9\n",
      "Now scraping index 25\n",
      "Completed index 25\n",
      "['25?page=3', '25?page=5', '25?page=7', '25?page=9']\n",
      "Now scraping index 25?page=3\n",
      "Completed index 25?page=3\n",
      "Now scraping index 25?page=5\n",
      "Completed index 25?page=5\n",
      "Now scraping index 25?page=7\n",
      "Completed index 25?page=7\n",
      "Now scraping index 25?page=9\n",
      "Completed index 25?page=9\n",
      "Now scraping index 9\n",
      "Completed index 9\n",
      "['9?page=3', '9?page=5', '9?page=7', '9?page=2']\n",
      "Now scraping index 9?page=3\n",
      "Completed index 9?page=3\n",
      "Now scraping index 9?page=5\n",
      "Completed index 9?page=5\n",
      "Now scraping index 9?page=7\n",
      "Completed index 9?page=7\n",
      "Now scraping index 9?page=2\n",
      "Completed index 9?page=2\n",
      "Now scraping index 27\n",
      "Completed index 27\n",
      "['27?page=3', '27?page=5', '27?page=7', '27?page=9']\n",
      "Now scraping index 27?page=3\n",
      "Completed index 27?page=3\n",
      "Now scraping index 27?page=5\n",
      "Completed index 27?page=5\n",
      "Now scraping index 27?page=7\n",
      "Completed index 27?page=7\n",
      "Now scraping index 27?page=9\n",
      "Completed index 27?page=9\n",
      "Now scraping index 7\n",
      "Completed index 7\n",
      "['7?page=3', '7?page=5', '7?page=7', '7?page=2']\n",
      "Now scraping index 7?page=3\n",
      "Completed index 7?page=3\n",
      "Now scraping index 7?page=5\n",
      "Completed index 7?page=5\n",
      "Now scraping index 7?page=7\n",
      "Completed index 7?page=7\n",
      "Now scraping index 7?page=2\n",
      "Completed index 7?page=2\n",
      "Now scraping index 28\n",
      "Completed index 28\n",
      "['28?page=3', '28?page=5', '28?page=7', '28?page=9']\n",
      "Now scraping index 28?page=3\n",
      "Completed index 28?page=3\n",
      "Now scraping index 28?page=5\n",
      "Completed index 28?page=5\n",
      "Now scraping index 28?page=7\n",
      "Completed index 28?page=7\n",
      "Now scraping index 28?page=9\n",
      "Completed index 28?page=9\n",
      "Now scraping index 6\n",
      "Completed index 6\n",
      "['6?page=3', '6?page=5', '6?page=7', '6?page=2']\n",
      "Now scraping index 6?page=3\n",
      "Completed index 6?page=3\n",
      "Now scraping index 6?page=5\n",
      "Completed index 6?page=5\n",
      "Now scraping index 6?page=7\n",
      "Completed index 6?page=7\n",
      "Now scraping index 6?page=2\n",
      "Completed index 6?page=2\n",
      "Now scraping index 31\n",
      "Completed index 31\n",
      "['31?page=3', '31?page=5', '31?page=7', '31?page=9']\n",
      "Now scraping index 31?page=3\n",
      "Completed index 31?page=3\n",
      "Now scraping index 31?page=5\n",
      "Completed index 31?page=5\n",
      "Now scraping index 31?page=7\n",
      "Completed index 31?page=7\n",
      "Now scraping index 31?page=9\n",
      "Completed index 31?page=9\n",
      "Now scraping index 30\n",
      "Completed index 30\n",
      "['30?page=3', '30?page=5', '30?page=2']\n",
      "Now scraping index 30?page=3\n",
      "Completed index 30?page=3\n",
      "Now scraping index 30?page=5\n",
      "Completed index 30?page=5\n",
      "Now scraping index 30?page=2\n",
      "Completed index 30?page=2\n",
      "Now scraping index 5\n",
      "Completed index 5\n",
      "['5?page=3', '5?page=5', '5?page=2']\n",
      "Now scraping index 5?page=3\n",
      "Completed index 5?page=3\n",
      "Now scraping index 5?page=5\n",
      "Completed index 5?page=5\n",
      "Now scraping index 5?page=2\n",
      "Completed index 5?page=2\n",
      "['16372', '16374', '16381', '16383', '16388', '16392', '16401', '16400', '18823', '16427', '16451', '16549', '16372', '16374', '16381', '16383', '16388', '16392', '16401', '16400', '18823', '16427', '16451', '16549', '16372', '16374', '16381', '16383', '16388', '16392', '16401', '16400', '18823', '16427', '16451', '16549', '16372', '16374', '16381', '16383', '16388', '16392', '16401', '16400', '18823', '16427', '16451', '16549', '16372', '16374', '16381', '16383', '16388', '16392', '16401', '16400', '18823', '16427', '16451', '16549', '16350', '16414', '16416', '16418', '16422', '16424', '18950', '16442', '16448', '16463', '16513', '16515', '16350', '16414', '16416', '16418', '16422', '16424', '18950', '16442', '16448', '16463', '16513', '16515', '16350', '16414', '16416', '16418', '16422', '16424', '18950', '16442', '16448', '16463', '16513', '16515', '16350', '16414', '16416', '16418', '16422', '16424', '18950', '16442', '16448', '16463', '16513', '16515', '16350', '16414', '16416', '16418', '16422', '16424', '18950', '16442', '16448', '16463', '16513', '16515', '16348', '16364', '16365', '19128', '16476', '16573', '16575', '16628', '16630', '16649', '19082', '16740', '16348', '16364', '16365', '19128', '16476', '16573', '16575', '16628', '16630', '16649', '19082', '16740', '16348', '16364', '16365', '19128', '16476', '16573', '16575', '16628', '16630', '16649', '19082', '16740', '16348', '16364', '16365', '19128', '16476', '16573', '16575', '16628', '16630', '16649', '19082', '16740', '16348', '16364', '16365', '19128', '16476', '16573', '16575', '16628', '16630', '16649', '19082', '16740', '16335', '16429', '16431', '16479', '16481', '16483', '16484', '16486', '16487', '16489', '16491', '16493', '16335', '16429', '16431', '16479', '16481', '16483', '16484', '16486', '16487', '16489', '16491', '16493', '16335', '16429', '16431', '16479', '16481', '16483', '16484', '16486', '16487', '16489', '16491', '16493', '16335', '16429', '16431', '16479', '16481', '16483', '16484', '16486', '16487', '16489', '16491', '16493', '16335', '16429', '16431', '16479', '16481', '16483', '16484', '16486', '16487', '16489', '16491', '16493', '16352', '16409', '16588', '16590', '16692', '16714', '16716', '16721', '16723', '16889', '16891', '16894', '16352', '16409', '16588', '16590', '16692', '16714', '16716', '16721', '16723', '16889', '16891', '16894', '16352', '16409', '16588', '16590', '16692', '16714', '16716', '16721', '16723', '16889', '16891', '16894', '16352', '16409', '16588', '16590', '16692', '16714', '16716', '16721', '16723', '16889', '16891', '16894', '16352', '16409', '16588', '16590', '16692', '16714', '16716', '16721', '16723', '16889', '16891', '16894', '16342', '16344', '16357', '16359', '16469', '16456', '16464', '16466', '16542', '16544', '16566', '16568', '16342', '16344', '16357', '16359', '16469', '16456', '16464', '16466', '16542', '16544', '16566', '16568', '16342', '16344', '16357', '16359', '16469', '16456', '16464', '16466', '16542', '16544', '16566', '16568', '16342', '16344', '16357', '16359', '16469', '16456', '16464', '16466', '16542', '16544', '16566', '16568', '16342', '16344', '16357', '16359', '16469', '16456', '16464', '16466', '16542', '16544', '16566', '16568', '16353', '16367', '18799', '16454', '16539', '18801', '16596', '18966', '18804', '16680', '16819', '16841', '16353', '16367', '18799', '16454', '16539', '18801', '16596', '18966', '18804', '16680', '16819', '16841', '16353', '16367', '18799', '16454', '16539', '18801', '16596', '18966', '18804', '16680', '16819', '16841', '16353', '16367', '18799', '16454', '16539', '18801', '16596', '18966', '18804', '16680', '16819', '16841', '16353', '16367', '18799', '16454', '16539', '18801', '16596', '18966', '18804', '16680', '16819', '16841', '16369', '16377', '16379', '16390', '16394', '16396', '16398', '16433', '18938', '16437', '16439', '16444', '16369', '16377', '16379', '16390', '16394', '16396', '16398', '16433', '18938', '16437', '16439', '16444', '16369', '16377', '16379', '16390', '16394', '16396', '16398', '16433', '18938', '16437', '16439', '16444', '16369', '16377', '16379', '16390', '16394', '16396', '16398', '16433', '18938', '16437', '16439', '16444', '16369', '16377', '16379', '16390', '16394', '16396', '16398', '16433', '18938', '16437', '16439', '16444', '16338', '16346', '16363', '16412', '16458', '16460', '16462', '16546', '16661', '16685', '16724', '16731', '16338', '16346', '16363', '16412', '16458', '16460', '16462', '16546', '16661', '16685', '16724', '16731', '16338', '16346', '16363', '16412', '16458', '16460', '16462', '16546', '16661', '16685', '16724', '16731', '16338', '16346', '16363', '16412', '16458', '16460', '16462', '16546', '16661', '16685', '16724', '16731', '16340', '19067', '19075', '16362', '19092', '16447', '16512', '16572', '16610', '16664', '19073', '16736', '16340', '19067', '19075', '16362', '19092', '16447', '16512', '16572', '16610', '16664', '19073', '16736', '16340', '19067', '19075', '16362', '19092', '16447', '16512', '16572', '16610', '16664', '19073', '16736', '16340', '19067', '19075', '16362', '19092', '16447', '16512', '16572', '16610', '16664', '19073', '16736']\n",
      "['Fruits', 'Fruits', 'Fruits', 'Fruits', 'Fruits', 'Fruits', 'Fruits', 'Fruits', 'Fruits', 'Fruits', 'Fruits', 'Fruits', 'Fruits', 'Fruits', 'Fruits', 'Fruits', 'Fruits', 'Fruits', 'Fruits', 'Fruits', 'Fruits', 'Fruits', 'Fruits', 'Fruits', 'Fruits', 'Fruits', 'Fruits', 'Fruits', 'Fruits', 'Fruits', 'Fruits', 'Fruits', 'Fruits', 'Fruits', 'Fruits', 'Fruits', 'Fruits', 'Fruits', 'Fruits', 'Fruits', 'Fruits', 'Fruits', 'Fruits', 'Fruits', 'Fruits', 'Fruits', 'Fruits', 'Fruits', 'Fruits', 'Fruits', 'Fruits', 'Fruits', 'Fruits', 'Fruits', 'Fruits', 'Fruits', 'Fruits', 'Fruits', 'Fruits', 'Fruits', 'Vegetables', 'Vegetables', 'Vegetables', 'Vegetables', 'Vegetables', 'Vegetables', 'Vegetables', 'Vegetables', 'Vegetables', 'Vegetables', 'Vegetables', 'Vegetables', 'Vegetables', 'Vegetables', 'Vegetables', 'Vegetables', 'Vegetables', 'Vegetables', 'Vegetables', 'Vegetables', 'Vegetables', 'Vegetables', 'Vegetables', 'Vegetables', 'Vegetables', 'Vegetables', 'Vegetables', 'Vegetables', 'Vegetables', 'Vegetables', 'Vegetables', 'Vegetables', 'Vegetables', 'Vegetables', 'Vegetables', 'Vegetables', 'Vegetables', 'Vegetables', 'Vegetables', 'Vegetables', 'Vegetables', 'Vegetables', 'Vegetables', 'Vegetables', 'Vegetables', 'Vegetables', 'Vegetables', 'Vegetables', 'Vegetables', 'Vegetables', 'Vegetables', 'Vegetables', 'Vegetables', 'Vegetables', 'Vegetables', 'Vegetables', 'Vegetables', 'Vegetables', 'Vegetables', 'Vegetables', 'Dairy & Eggs', 'Dairy & Eggs', 'Dairy & Eggs', 'Dairy & Eggs', 'Dairy & Eggs', 'Dairy & Eggs', 'Dairy & Eggs', 'Dairy & Eggs', 'Dairy & Eggs', 'Dairy & Eggs', 'Dairy & Eggs', 'Dairy & Eggs', 'Dairy & Eggs', 'Dairy & Eggs', 'Dairy & Eggs', 'Dairy & Eggs', 'Dairy & Eggs', 'Dairy & Eggs', 'Dairy & Eggs', 'Dairy & Eggs', 'Dairy & Eggs', 'Dairy & Eggs', 'Dairy & Eggs', 'Dairy & Eggs', 'Dairy & Eggs', 'Dairy & Eggs', 'Dairy & Eggs', 'Dairy & Eggs', 'Dairy & Eggs', 'Dairy & Eggs', 'Dairy & Eggs', 'Dairy & Eggs', 'Dairy & Eggs', 'Dairy & Eggs', 'Dairy & Eggs', 'Dairy & Eggs', 'Dairy & Eggs', 'Dairy & Eggs', 'Dairy & Eggs', 'Dairy & Eggs', 'Dairy & Eggs', 'Dairy & Eggs', 'Dairy & Eggs', 'Dairy & Eggs', 'Dairy & Eggs', 'Dairy & Eggs', 'Dairy & Eggs', 'Dairy & Eggs', 'Dairy & Eggs', 'Dairy & Eggs', 'Dairy & Eggs', 'Dairy & Eggs', 'Dairy & Eggs', 'Dairy & Eggs', 'Dairy & Eggs', 'Dairy & Eggs', 'Dairy & Eggs', 'Dairy & Eggs', 'Dairy & Eggs', 'Dairy & Eggs', 'Meat & Poultry', 'Meat & Poultry', 'Meat & Poultry', 'Meat & Poultry', 'Meat & Poultry', 'Meat & Poultry', 'Meat & Poultry', 'Meat & Poultry', 'Meat & Poultry', 'Meat & Poultry', 'Meat & Poultry', 'Meat & Poultry', 'Meat & Poultry', 'Meat & Poultry', 'Meat & Poultry', 'Meat & Poultry', 'Meat & Poultry', 'Meat & Poultry', 'Meat & Poultry', 'Meat & Poultry', 'Meat & Poultry', 'Meat & Poultry', 'Meat & Poultry', 'Meat & Poultry', 'Meat & Poultry', 'Meat & Poultry', 'Meat & Poultry', 'Meat & Poultry', 'Meat & Poultry', 'Meat & Poultry', 'Meat & Poultry', 'Meat & Poultry', 'Meat & Poultry', 'Meat & Poultry', 'Meat & Poultry', 'Meat & Poultry', 'Meat & Poultry', 'Meat & Poultry', 'Meat & Poultry', 'Meat & Poultry', 'Meat & Poultry', 'Meat & Poultry', 'Meat & Poultry', 'Meat & Poultry', 'Meat & Poultry', 'Meat & Poultry', 'Meat & Poultry', 'Meat & Poultry', 'Meat & Poultry', 'Meat & Poultry', 'Meat & Poultry', 'Meat & Poultry', 'Meat & Poultry', 'Meat & Poultry', 'Meat & Poultry', 'Meat & Poultry', 'Meat & Poultry', 'Meat & Poultry', 'Meat & Poultry', 'Meat & Poultry', 'Fish & Shellfish', 'Fish & Shellfish', 'Fish & Shellfish', 'Fish & Shellfish', 'Fish & Shellfish', 'Fish & Shellfish', 'Fish & Shellfish', 'Fish & Shellfish', 'Fish & Shellfish', 'Fish & Shellfish', 'Fish & Shellfish', 'Fish & Shellfish', 'Fish & Shellfish', 'Fish & Shellfish', 'Fish & Shellfish', 'Fish & Shellfish', 'Fish & Shellfish', 'Fish & Shellfish', 'Fish & Shellfish', 'Fish & Shellfish', 'Fish & Shellfish', 'Fish & Shellfish', 'Fish & Shellfish', 'Fish & Shellfish', 'Fish & Shellfish', 'Fish & Shellfish', 'Fish & Shellfish', 'Fish & Shellfish', 'Fish & Shellfish', 'Fish & Shellfish', 'Fish & Shellfish', 'Fish & Shellfish', 'Fish & Shellfish', 'Fish & Shellfish', 'Fish & Shellfish', 'Fish & Shellfish', 'Fish & Shellfish', 'Fish & Shellfish', 'Fish & Shellfish', 'Fish & Shellfish', 'Fish & Shellfish', 'Fish & Shellfish', 'Fish & Shellfish', 'Fish & Shellfish', 'Fish & Shellfish', 'Fish & Shellfish', 'Fish & Shellfish', 'Fish & Shellfish', 'Fish & Shellfish', 'Fish & Shellfish', 'Fish & Shellfish', 'Fish & Shellfish', 'Fish & Shellfish', 'Fish & Shellfish', 'Fish & Shellfish', 'Fish & Shellfish', 'Fish & Shellfish', 'Fish & Shellfish', 'Fish & Shellfish', 'Fish & Shellfish', 'Nuts, Grains & Pasta', 'Nuts, Grains & Pasta', 'Nuts, Grains & Pasta', 'Nuts, Grains & Pasta', 'Nuts, Grains & Pasta', 'Nuts, Grains & Pasta', 'Nuts, Grains & Pasta', 'Nuts, Grains & Pasta', 'Nuts, Grains & Pasta', 'Nuts, Grains & Pasta', 'Nuts, Grains & Pasta', 'Nuts, Grains & Pasta', 'Nuts, Grains & Pasta', 'Nuts, Grains & Pasta', 'Nuts, Grains & Pasta', 'Nuts, Grains & Pasta', 'Nuts, Grains & Pasta', 'Nuts, Grains & Pasta', 'Nuts, Grains & Pasta', 'Nuts, Grains & Pasta', 'Nuts, Grains & Pasta', 'Nuts, Grains & Pasta', 'Nuts, Grains & Pasta', 'Nuts, Grains & Pasta', 'Nuts, Grains & Pasta', 'Nuts, Grains & Pasta', 'Nuts, Grains & Pasta', 'Nuts, Grains & Pasta', 'Nuts, Grains & Pasta', 'Nuts, Grains & Pasta', 'Nuts, Grains & Pasta', 'Nuts, Grains & Pasta', 'Nuts, Grains & Pasta', 'Nuts, Grains & Pasta', 'Nuts, Grains & Pasta', 'Nuts, Grains & Pasta', 'Nuts, Grains & Pasta', 'Nuts, Grains & Pasta', 'Nuts, Grains & Pasta', 'Nuts, Grains & Pasta', 'Nuts, Grains & Pasta', 'Nuts, Grains & Pasta', 'Nuts, Grains & Pasta', 'Nuts, Grains & Pasta', 'Nuts, Grains & Pasta', 'Nuts, Grains & Pasta', 'Nuts, Grains & Pasta', 'Nuts, Grains & Pasta', 'Nuts, Grains & Pasta', 'Nuts, Grains & Pasta', 'Nuts, Grains & Pasta', 'Nuts, Grains & Pasta', 'Nuts, Grains & Pasta', 'Nuts, Grains & Pasta', 'Nuts, Grains & Pasta', 'Nuts, Grains & Pasta', 'Nuts, Grains & Pasta', 'Nuts, Grains & Pasta', 'Nuts, Grains & Pasta', 'Nuts, Grains & Pasta', 'Condiments & Oils', 'Condiments & Oils', 'Condiments & Oils', 'Condiments & Oils', 'Condiments & Oils', 'Condiments & Oils', 'Condiments & Oils', 'Condiments & Oils', 'Condiments & Oils', 'Condiments & Oils', 'Condiments & Oils', 'Condiments & Oils', 'Condiments & Oils', 'Condiments & Oils', 'Condiments & Oils', 'Condiments & Oils', 'Condiments & Oils', 'Condiments & Oils', 'Condiments & Oils', 'Condiments & Oils', 'Condiments & Oils', 'Condiments & Oils', 'Condiments & Oils', 'Condiments & Oils', 'Condiments & Oils', 'Condiments & Oils', 'Condiments & Oils', 'Condiments & Oils', 'Condiments & Oils', 'Condiments & Oils', 'Condiments & Oils', 'Condiments & Oils', 'Condiments & Oils', 'Condiments & Oils', 'Condiments & Oils', 'Condiments & Oils', 'Condiments & Oils', 'Condiments & Oils', 'Condiments & Oils', 'Condiments & Oils', 'Condiments & Oils', 'Condiments & Oils', 'Condiments & Oils', 'Condiments & Oils', 'Condiments & Oils', 'Condiments & Oils', 'Condiments & Oils', 'Condiments & Oils', 'Condiments & Oils', 'Condiments & Oils', 'Condiments & Oils', 'Condiments & Oils', 'Condiments & Oils', 'Condiments & Oils', 'Condiments & Oils', 'Condiments & Oils', 'Condiments & Oils', 'Condiments & Oils', 'Condiments & Oils', 'Condiments & Oils', 'Snacks & Baked Goods', 'Snacks & Baked Goods', 'Snacks & Baked Goods', 'Snacks & Baked Goods', 'Snacks & Baked Goods', 'Snacks & Baked Goods', 'Snacks & Baked Goods', 'Snacks & Baked Goods', 'Snacks & Baked Goods', 'Snacks & Baked Goods', 'Snacks & Baked Goods', 'Snacks & Baked Goods', 'Snacks & Baked Goods', 'Snacks & Baked Goods', 'Snacks & Baked Goods', 'Snacks & Baked Goods', 'Snacks & Baked Goods', 'Snacks & Baked Goods', 'Snacks & Baked Goods', 'Snacks & Baked Goods', 'Snacks & Baked Goods', 'Snacks & Baked Goods', 'Snacks & Baked Goods', 'Snacks & Baked Goods', 'Snacks & Baked Goods', 'Snacks & Baked Goods', 'Snacks & Baked Goods', 'Snacks & Baked Goods', 'Snacks & Baked Goods', 'Snacks & Baked Goods', 'Snacks & Baked Goods', 'Snacks & Baked Goods', 'Snacks & Baked Goods', 'Snacks & Baked Goods', 'Snacks & Baked Goods', 'Snacks & Baked Goods', 'Snacks & Baked Goods', 'Snacks & Baked Goods', 'Snacks & Baked Goods', 'Snacks & Baked Goods', 'Snacks & Baked Goods', 'Snacks & Baked Goods', 'Snacks & Baked Goods', 'Snacks & Baked Goods', 'Snacks & Baked Goods', 'Snacks & Baked Goods', 'Snacks & Baked Goods', 'Snacks & Baked Goods', 'Snacks & Baked Goods', 'Snacks & Baked Goods', 'Snacks & Baked Goods', 'Snacks & Baked Goods', 'Snacks & Baked Goods', 'Snacks & Baked Goods', 'Snacks & Baked Goods', 'Snacks & Baked Goods', 'Snacks & Baked Goods', 'Snacks & Baked Goods', 'Snacks & Baked Goods', 'Snacks & Baked Goods', 'Herbs & Spices', 'Herbs & Spices', 'Herbs & Spices', 'Herbs & Spices', 'Herbs & Spices', 'Herbs & Spices', 'Herbs & Spices', 'Herbs & Spices', 'Herbs & Spices', 'Herbs & Spices', 'Herbs & Spices', 'Herbs & Spices', 'Herbs & Spices', 'Herbs & Spices', 'Herbs & Spices', 'Herbs & Spices', 'Herbs & Spices', 'Herbs & Spices', 'Herbs & Spices', 'Herbs & Spices', 'Herbs & Spices', 'Herbs & Spices', 'Herbs & Spices', 'Herbs & Spices', 'Herbs & Spices', 'Herbs & Spices', 'Herbs & Spices', 'Herbs & Spices', 'Herbs & Spices', 'Herbs & Spices', 'Herbs & Spices', 'Herbs & Spices', 'Herbs & Spices', 'Herbs & Spices', 'Herbs & Spices', 'Herbs & Spices', 'Herbs & Spices', 'Herbs & Spices', 'Herbs & Spices', 'Herbs & Spices', 'Herbs & Spices', 'Herbs & Spices', 'Herbs & Spices', 'Herbs & Spices', 'Herbs & Spices', 'Herbs & Spices', 'Herbs & Spices', 'Herbs & Spices', 'Beverages', 'Beverages', 'Beverages', 'Beverages', 'Beverages', 'Beverages', 'Beverages', 'Beverages', 'Beverages', 'Beverages', 'Beverages', 'Beverages', 'Beverages', 'Beverages', 'Beverages', 'Beverages', 'Beverages', 'Beverages', 'Beverages', 'Beverages', 'Beverages', 'Beverages', 'Beverages', 'Beverages', 'Beverages', 'Beverages', 'Beverages', 'Beverages', 'Beverages', 'Beverages', 'Beverages', 'Beverages', 'Beverages', 'Beverages', 'Beverages', 'Beverages', 'Beverages', 'Beverages', 'Beverages', 'Beverages', 'Beverages', 'Beverages', 'Beverages', 'Beverages', 'Beverages', 'Beverages', 'Beverages', 'Beverages']\n"
     ]
    }
   ],
   "source": [
    "all_index_numbers = []\n",
    "all_categories = []\n",
    "for x,i in enumerate(category_index_numbers):\n",
    "    print(f\"Now scraping index {i}\")\n",
    "    url = f'https://www.stilltasty.com/searchitems/index/{i}'\n",
    "    index_numbers, item_names = get_index_numbers(url,\"/Fooditems/index/\")\n",
    "    if index_numbers:\n",
    "        all_index_numbers = all_index_numbers + index_numbers\n",
    "        all_categories = all_categories + [categories[x]]*len(index_numbers)\n",
    "    print(f'Completed index {i}')\n",
    "    sleep(3)\n",
    "    other_pages, page_names = get_index_numbers(url,\"/searchitems/index/\")\n",
    "    print(other_pages)\n",
    "    if other_pages:\n",
    "        for j in other_pages: \n",
    "            print(f\"Now scraping index {j}\")\n",
    "            url = f'https://www.stilltasty.com/searchitems/index/{i}'\n",
    "            index_numbers, item_names = get_index_numbers(url,\"/Fooditems/index/\")\n",
    "            if index_numbers:\n",
    "                all_index_numbers = all_index_numbers + index_numbers\n",
    "                all_categories = all_categories + [categories[x]]*len(index_numbers)\n",
    "            print(f'Completed index {j}')\n",
    "            sleep(3)\n",
    "            \n",
    "print(all_index_numbers)\n",
    "print(all_categories)"
   ]
  },
  {
   "cell_type": "code",
   "execution_count": null,
   "metadata": {},
   "outputs": [],
   "source": [
    "for i in all_index_numbers:\n",
    "    scrape_stilltasty(i)"
   ]
  },
  {
   "cell_type": "code",
   "execution_count": 107,
   "metadata": {},
   "outputs": [
    {
     "data": {
      "text/plain": [
       "576"
      ]
     },
     "execution_count": 107,
     "metadata": {},
     "output_type": "execute_result"
    }
   ],
   "source": [
    "len(all_index_numbers)"
   ]
  },
  {
   "cell_type": "code",
   "execution_count": 106,
   "metadata": {},
   "outputs": [
    {
     "data": {
      "text/plain": [
       "Counter({'Fruits': 60,\n",
       "         'Vegetables': 60,\n",
       "         'Dairy & Eggs': 60,\n",
       "         'Meat & Poultry': 60,\n",
       "         'Fish & Shellfish': 60,\n",
       "         'Nuts, Grains & Pasta': 60,\n",
       "         'Condiments & Oils': 60,\n",
       "         'Snacks & Baked Goods': 60,\n",
       "         'Herbs & Spices': 48,\n",
       "         'Beverages': 48})"
      ]
     },
     "execution_count": 106,
     "metadata": {},
     "output_type": "execute_result"
    }
   ],
   "source": [
    "from collections import Counter\n",
    "Counter(all_categories)"
   ]
  },
  {
   "cell_type": "code",
   "execution_count": 71,
   "metadata": {},
   "outputs": [
    {
     "data": {
      "text/plain": [
       "{'Refrigerator': '3-4 days', 'Freezer': '10-12 months'}"
      ]
     },
     "execution_count": 71,
     "metadata": {},
     "output_type": "execute_result"
    }
   ],
   "source": [
    "scrape_stilltasty('17634')"
   ]
  }
 ],
 "metadata": {
  "kernelspec": {
   "display_name": "Python 3",
   "language": "python",
   "name": "python3"
  },
  "language_info": {
   "codemirror_mode": {
    "name": "ipython",
    "version": 3
   },
   "file_extension": ".py",
   "mimetype": "text/x-python",
   "name": "python",
   "nbconvert_exporter": "python",
   "pygments_lexer": "ipython3",
   "version": "3.10.11"
  }
 },
 "nbformat": 4,
 "nbformat_minor": 2
}
